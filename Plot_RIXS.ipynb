{
 "cells": [
  {
   "cell_type": "code",
   "execution_count": 1,
   "metadata": {},
   "outputs": [],
   "source": [
    "import numpy as np\n",
    "import matplotlib.pyplot as plt\n",
    "from matplotlib import cm,pyplot\n",
    "from matplotlib.colors import LinearSegmentedColormap\n",
    "import os"
   ]
  },
  {
   "cell_type": "code",
   "execution_count": 2,
   "metadata": {},
   "outputs": [],
   "source": [
    "colors1 = plt.cm.terrain(np.linspace(0., 0.75, 128))\n",
    "colors2 = plt.cm.terrain(np.linspace(0.75, 1, 128))\n",
    "colors = np.vstack((colors1, colors2))\n",
    "mymap = LinearSegmentedColormap.from_list('rixs', colors)"
   ]
  },
  {
   "cell_type": "code",
   "execution_count": 3,
   "metadata": {},
   "outputs": [],
   "source": [
    "def lorentz3D(x, y, amp, xc, yc, wid):\n",
    "    return amp*(wid/((x-xc)**2+(y-yc)**2+wid**2)**1.5)\n",
    "\n",
    "# We can broaden in x axis and then broaden in y axis instead of 3D broadening\n",
    "def lorentz(x, amp, cen, wid):\n",
    "    return (amp)*(wid/((x-cen)**2 + wid**2))"
   ]
  },
  {
   "cell_type": "code",
   "execution_count": 26,
   "metadata": {},
   "outputs": [],
   "source": [
    "def read_file(flist,xdata,ydata,b_ab,b_em,eloss=False):\n",
    "    x,y = np.meshgrid(xdata,ydata)\n",
    "    z_ab = np.zeros((xdata.size,xdata.size))\n",
    "    z = np.zeros((xdata.size,xdata.size))\n",
    "    for fname in flist:\n",
    "        with open(fname) as rixs:\n",
    "            lines = rixs.readlines()[1:]\n",
    "            for l in lines:\n",
    "                ab = float(l.split()[0])\n",
    "                el = float(l.split()[1])\n",
    "                elind = int((el-elmin)/(elmax-elmin)*nedos)\n",
    "                peak = float(l.split()[2])\n",
    "                if (peak < 1e-6): continue\n",
    "#                 print(ab,el,peak)\n",
    "                # Broaden in absorption\n",
    "                z_ab[:,elind] += lorentz(y_ax,peak,ab,b_ab)\n",
    "    # Broaden in energy loss\n",
    "    bd_list = []\n",
    "    for yy in range(0,nedos):\n",
    "        if(np.any(z_ab[:,yy])): \n",
    "            bd_list.append(yy)\n",
    "\n",
    "    for bd_ind in bd_list:\n",
    "        for xx in range(0,nedos):\n",
    "            if (z_ab[xx][bd_ind] != 0):\n",
    "                z[xx,:] += lorentz(x_ax,z_ab[xx][bd_ind],x_ax[bd_ind],b_em)\n",
    "\n",
    "    # Wipe out anything with energy loss < 0\n",
    "    if (eloss):\n",
    "        zeroind = int((-elmin)/(elmax-elmin)*nedos)\n",
    "        for yy in range(0,zeroind):\n",
    "            z[:,yy].fill(0)\n",
    "    else:\n",
    "        for x_ind in range(0,nedos):\n",
    "            for y_ind in range(0,nedos):\n",
    "                if x_ax[x_ind] >= y_ax[y_ind]:\n",
    "                    z[y_ind,x_ind:].fill(0)\n",
    "                    continue;\n",
    "    return z\n",
    "\n",
    "def read_dir_xas(dir_name,xdata,ydata,b_ab=0.3,b_em=0.3,edge = \"L\",pol_in = \"XYZ\",pol_out = \"XYZ\",eloss=False):\n",
    "    zdata = np.zeros((xdata.size,xdata.size))\n",
    "    flist = []\n",
    "    for pin in pol_in:\n",
    "        for pout in pol_out:  \n",
    "            filename = dir_name+\"/RIXS_\"+edge+\"edge_\"+pin+\"_\"+pout+\".txt\"\n",
    "            flist.append(filename)\n",
    "    zdata += read_file(flist,xdata,ydata,b_ab,b_em,eloss)\n",
    "    return zdata"
   ]
  },
  {
   "cell_type": "code",
   "execution_count": 33,
   "metadata": {
    "scrolled": true
   },
   "outputs": [],
   "source": [
    "nedos = 2000\n",
    "abmin = -25\n",
    "abmax = 25\n",
    "elmin = -30\n",
    "elmax = 30\n",
    "eloss = False\n",
    "x_ax = np.linspace(elmin,elmax,nedos)\n",
    "y_ax = np.linspace(abmin,abmax,nedos)\n",
    "x,y = np.meshgrid(x_ax,y_ax)"
   ]
  },
  {
   "cell_type": "markdown",
   "metadata": {},
   "source": [
    "# Another Output format\n",
    "nedos = 1000\n",
    "x = np.linspace(0,3,nedos)\n",
    "y = np.linspace(-15,15,nedos)\n",
    "x,y = np.meshgrid(x,y)\n",
    "z = np.zeros((nedos,nedos))\n",
    "z = np.loadtxt(\"rixs_mat.txt\", delimiter=',')"
   ]
  },
  {
   "cell_type": "code",
   "execution_count": 1,
   "metadata": {
    "scrolled": true
   },
   "outputs": [
    {
     "ename": "NameError",
     "evalue": "name 'read_dir_xas' is not defined",
     "output_type": "error",
     "traceback": [
      "\u001b[0;31m---------------------------------------------------------------------------\u001b[0m",
      "\u001b[0;31mNameError\u001b[0m                                 Traceback (most recent call last)",
      "\u001b[0;32m<ipython-input-1-dc5f92dfbf56>\u001b[0m in \u001b[0;36m<module>\u001b[0;34m\u001b[0m\n\u001b[1;32m      2\u001b[0m \u001b[0medge\u001b[0m \u001b[0;34m=\u001b[0m \u001b[0;34m\"L3\"\u001b[0m\u001b[0;34m\u001b[0m\u001b[0;34m\u001b[0m\u001b[0m\n\u001b[1;32m      3\u001b[0m \u001b[0;31m# z = read_dir_xas(\"./WORK_DIR/LiCoO2/d6L/final\",x_ax,y_ax,0.3,0.3,edge[0])\u001b[0m\u001b[0;34m\u001b[0m\u001b[0;34m\u001b[0m\u001b[0;34m\u001b[0m\u001b[0m\n\u001b[0;32m----> 4\u001b[0;31m \u001b[0mz\u001b[0m \u001b[0;34m=\u001b[0m \u001b[0mread_dir_xas\u001b[0m\u001b[0;34m(\u001b[0m\u001b[0;34m\"./WORK_DIR/LiNiO2/v1/d8L2\"\u001b[0m\u001b[0;34m,\u001b[0m\u001b[0mx_ax\u001b[0m\u001b[0;34m,\u001b[0m\u001b[0my_ax\u001b[0m\u001b[0;34m,\u001b[0m\u001b[0;36m0.3\u001b[0m\u001b[0;34m,\u001b[0m\u001b[0;36m0.3\u001b[0m\u001b[0;34m,\u001b[0m\u001b[0medge\u001b[0m\u001b[0;34m[\u001b[0m\u001b[0;36m0\u001b[0m\u001b[0;34m]\u001b[0m\u001b[0;34m,\u001b[0m\u001b[0;34m\"X\"\u001b[0m\u001b[0;34m,\u001b[0m\u001b[0;34m\"XYZ\"\u001b[0m\u001b[0;34m,\u001b[0m\u001b[0meloss\u001b[0m\u001b[0;34m)\u001b[0m\u001b[0;34m\u001b[0m\u001b[0;34m\u001b[0m\u001b[0m\n\u001b[0m\u001b[1;32m      5\u001b[0m \u001b[0;32mif\u001b[0m \u001b[0;34m(\u001b[0m\u001b[0meloss\u001b[0m\u001b[0;34m)\u001b[0m\u001b[0;34m:\u001b[0m \u001b[0mc\u001b[0m \u001b[0;34m=\u001b[0m \u001b[0;34m\"gnuplot\"\u001b[0m\u001b[0;34m\u001b[0m\u001b[0;34m\u001b[0m\u001b[0m\n\u001b[1;32m      6\u001b[0m \u001b[0;32melse\u001b[0m\u001b[0;34m:\u001b[0m \u001b[0mc\u001b[0m \u001b[0;34m=\u001b[0m \u001b[0mmymap\u001b[0m\u001b[0;34m\u001b[0m\u001b[0;34m\u001b[0m\u001b[0m\n",
      "\u001b[0;31mNameError\u001b[0m: name 'read_dir_xas' is not defined"
     ]
    }
   ],
   "source": [
    "shift = 0\n",
    "edge = \"L3\"\n",
    "# z = read_dir_xas(\"./WORK_DIR/LiCoO2/d6L/final\",x_ax,y_ax,0.3,0.3,edge[0])\n",
    "z = read_dir_xas(\"./WORK_DIR/LiNiO2/v1/d8L2\",x_ax,y_ax,0.3,0.3,edge[0],\"X\",\"XYZ\",eloss)\n",
    "if (eloss): c = \"gnuplot\"\n",
    "else: c = mymap\n",
    "    \n",
    "plt.pcolormesh(x+shift, y+shift, z.reshape(x.shape),shading=\"auto\",cmap=c)\n",
    "# plt.title(\"d8 K edge NCT RIXS x/y, dppsigma = 0.25\")\n",
    "if (eloss): plt.xlabel(\"Loss Energy (eV)\")\n",
    "else: plt.xlabel(\"Emission Energy (eV)\")\n",
    "plt.ylabel(\"Incident Energy (eV)\")\n",
    "# plt.clim([0,0.2])\n",
    "if (edge == 'L'):\n",
    "    plt.ylim([-10+shift,25+shift])\n",
    "if (edge == 'K'):\n",
    "    plt.ylim([-20+shift,-2+shift])  \n",
    "    plt.ylim([-10+shift,5+shift])  \n",
    "if (not eloss):\n",
    "    plt.xlim([plt.axis()[2]-10+shift,plt.axis()[3]-5+shift])\n",
    "else:\n",
    "    plt.xlim([0+shift,7+shift])\n",
    "\n",
    "if (edge == 'L3'):\n",
    "    plt.ylim([-5+shift,4+shift]) \n",
    "    if (not eloss): plt.xlim([-15+shift,5+shift])\n",
    "    else: plt.xlim([0+shift,15+shift])\n",
    "plt.rcParams[\"figure.figsize\"] = (6,6)\n",
    "plt.rc('font', size=13)   \n",
    "if (not eloss):\n",
    "    lims = np.linspace(-50+shift,50+shift,nedos)\n",
    "    plt.plot(lims,lims,linewidth=1,linestyle='--',color=\"yellow\")\n",
    "plt.rcParams[\"figure.figsize\"] = (7,6)\n",
    "plt.colorbar()\n",
    "plt.title(\"d8L \"+edge+\" edge RIXS (LiNiO2), incoming polarization: X\")\n",
    "plt.savefig('/Users/seanhsu/Desktop/School/Research/Program File/ED/plot.png')\n",
    "plt.show()"
   ]
  },
  {
   "cell_type": "code",
   "execution_count": null,
   "metadata": {},
   "outputs": [],
   "source": []
  }
 ],
 "metadata": {
  "kernelspec": {
   "display_name": "Python 3",
   "language": "python",
   "name": "python3"
  },
  "language_info": {
   "codemirror_mode": {
    "name": "ipython",
    "version": 3
   },
   "file_extension": ".py",
   "mimetype": "text/x-python",
   "name": "python",
   "nbconvert_exporter": "python",
   "pygments_lexer": "ipython3",
   "version": "3.8.15"
  }
 },
 "nbformat": 4,
 "nbformat_minor": 4
}
